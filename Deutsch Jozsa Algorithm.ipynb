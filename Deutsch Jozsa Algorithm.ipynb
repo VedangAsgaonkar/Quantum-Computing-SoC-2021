{
 "cells": [
  {
   "cell_type": "markdown",
   "metadata": {},
   "source": [
    "# Deutsch Jozsa Algorithm"
   ]
  },
  {
   "cell_type": "code",
   "execution_count": 1,
   "metadata": {},
   "outputs": [],
   "source": [
    "from qiskit import QuantumCircuit, assemble, Aer\n",
    "from qiskit.visualization import plot_histogram"
   ]
  },
  {
   "cell_type": "markdown",
   "metadata": {},
   "source": [
    "### Goal\n",
    "Given an oracle which is guaranteed to be:\n",
    "* either a constant oracle i.e. returns a fixed value 0 or 1 for any input\n",
    "* or a balanced oracle which outputs 0 for half inputs and 1 for the remaining half\n",
    "the algorithm seeks to determine which of these oracles it is"
   ]
  },
  {
   "cell_type": "markdown",
   "metadata": {},
   "source": [
    "### Implementation \n",
    "The register is set to a state $|000\\dots\\rangle$. The Hadamard Transform is applied on all qubits of the register. An auxiliary qubit is put into the state $\\frac{|0\\rangle-|1\\rangle}{\\sqrt{2}}$. The oracle is applied and its output is CNOTed with the auxiliary qubit. Since the auxiliary is in an eigenstate of the X gate with an eigenvalue -1, it produces a phase kickback to the register. Now, the Hadamard transform is again applied to the register. In case of the constant Oracle, at the end of the algorithm, the register is in state $|000\\dots\\rangle$. In case of a balanced Oracle the final state is a superposition if various basis states, but the superposition is orthogonal to $|000\\dots\\rangle$. As a result when we finally measure the register, a result of $000\\dots$ is obtained in the constant case, and any other result may be obtained in the balanced case."
   ]
  },
  {
   "cell_type": "code",
   "execution_count": 14,
   "metadata": {},
   "outputs": [],
   "source": [
    "n = 3\n",
    "q = QuantumCircuit(n+1)"
   ]
  },
  {
   "cell_type": "code",
   "execution_count": 15,
   "metadata": {},
   "outputs": [
    {
     "data": {
      "text/html": [
       "<pre style=\"word-wrap: normal;white-space: pre;background: #fff0;line-height: 1.1;font-family: &quot;Courier New&quot;,Courier,monospace\">     ┌───┐     \n",
       "q_0: ┤ H ├─────\n",
       "     ├───┤     \n",
       "q_1: ┤ H ├─────\n",
       "     ├───┤     \n",
       "q_2: ┤ H ├─────\n",
       "     ├───┤┌───┐\n",
       "q_3: ┤ X ├┤ H ├\n",
       "     └───┘└───┘</pre>"
      ],
      "text/plain": [
       "     ┌───┐     \n",
       "q_0: ┤ H ├─────\n",
       "     ├───┤     \n",
       "q_1: ┤ H ├─────\n",
       "     ├───┤     \n",
       "q_2: ┤ H ├─────\n",
       "     ├───┤┌───┐\n",
       "q_3: ┤ X ├┤ H ├\n",
       "     └───┘└───┘"
      ]
     },
     "execution_count": 15,
     "metadata": {},
     "output_type": "execute_result"
    }
   ],
   "source": [
    "for i in range(n):\n",
    "    q.h(i)\n",
    "q.x(n)\n",
    "q.h(n)\n",
    "q.draw()"
   ]
  },
  {
   "cell_type": "markdown",
   "metadata": {},
   "source": [
    "#### Constant Oracle\n",
    "This oracle returns 0 for all inputs"
   ]
  },
  {
   "cell_type": "code",
   "execution_count": 16,
   "metadata": {},
   "outputs": [],
   "source": [
    "def constant_oracle():\n",
    "    global q\n",
    "    global n"
   ]
  },
  {
   "cell_type": "markdown",
   "metadata": {},
   "source": [
    "#### Balanced Oracle\n",
    "This oracle checks if the register has an even number"
   ]
  },
  {
   "cell_type": "code",
   "execution_count": 17,
   "metadata": {},
   "outputs": [],
   "source": [
    "def balanced_oracle():\n",
    "    global q\n",
    "    global n\n",
    "    q.cx(n-1,n)    "
   ]
  },
  {
   "cell_type": "markdown",
   "metadata": {},
   "source": [
    "### Example: Balanced Oracle"
   ]
  },
  {
   "cell_type": "code",
   "execution_count": 18,
   "metadata": {},
   "outputs": [],
   "source": [
    "balanced_oracle()\n",
    "for i in range(n):\n",
    "    q.h(i)"
   ]
  },
  {
   "cell_type": "code",
   "execution_count": 19,
   "metadata": {},
   "outputs": [
    {
     "data": {
      "text/html": [
       "<pre style=\"word-wrap: normal;white-space: pre;background: #fff0;line-height: 1.1;font-family: &quot;Courier New&quot;,Courier,monospace\">     ┌───┐┌───┐          \n",
       "q_0: ┤ H ├┤ H ├──────────\n",
       "     ├───┤├───┤          \n",
       "q_1: ┤ H ├┤ H ├──────────\n",
       "     ├───┤└───┘     ┌───┐\n",
       "q_2: ┤ H ├───────■──┤ H ├\n",
       "     ├───┤┌───┐┌─┴─┐└───┘\n",
       "q_3: ┤ X ├┤ H ├┤ X ├─────\n",
       "     └───┘└───┘└───┘     </pre>"
      ],
      "text/plain": [
       "     ┌───┐┌───┐          \n",
       "q_0: ┤ H ├┤ H ├──────────\n",
       "     ├───┤├───┤          \n",
       "q_1: ┤ H ├┤ H ├──────────\n",
       "     ├───┤└───┘     ┌───┐\n",
       "q_2: ┤ H ├───────■──┤ H ├\n",
       "     ├───┤┌───┐┌─┴─┐└───┘\n",
       "q_3: ┤ X ├┤ H ├┤ X ├─────\n",
       "     └───┘└───┘└───┘     "
      ]
     },
     "execution_count": 19,
     "metadata": {},
     "output_type": "execute_result"
    }
   ],
   "source": [
    "q.draw()"
   ]
  }
 ],
 "metadata": {
  "kernelspec": {
   "display_name": "Python 3",
   "language": "python",
   "name": "python3"
  },
  "language_info": {
   "codemirror_mode": {
    "name": "ipython",
    "version": 3
   },
   "file_extension": ".py",
   "mimetype": "text/x-python",
   "name": "python",
   "nbconvert_exporter": "python",
   "pygments_lexer": "ipython3",
   "version": "3.8.5"
  }
 },
 "nbformat": 4,
 "nbformat_minor": 4
}
