{
 "cells": [
  {
   "cell_type": "markdown",
   "metadata": {},
   "source": [
    "# Quantum Fourier Transform"
   ]
  },
  {
   "cell_type": "code",
   "execution_count": 1,
   "metadata": {},
   "outputs": [],
   "source": [
    "import numpy as np\n",
    "from numpy import pi\n",
    "# importing Qiskit\n",
    "from qiskit import QuantumCircuit, transpile, assemble, Aer, IBMQ\n",
    "from qiskit.providers.ibmq import least_busy\n",
    "from qiskit.tools.monitor import job_monitor\n",
    "from qiskit.visualization import plot_histogram, plot_bloch_multivector"
   ]
  },
  {
   "cell_type": "code",
   "execution_count": 2,
   "metadata": {},
   "outputs": [
    {
     "data": {
      "text/html": [
       "<pre style=\"word-wrap: normal;white-space: pre;background: #fff0;line-height: 1.1;font-family: &quot;Courier New&quot;,Courier,monospace\">     \n",
       "q_0: \n",
       "     \n",
       "q_1: \n",
       "     \n",
       "q_2: \n",
       "     \n",
       "q_3: \n",
       "     </pre>"
      ],
      "text/plain": [
       "     \n",
       "q_0: \n",
       "     \n",
       "q_1: \n",
       "     \n",
       "q_2: \n",
       "     \n",
       "q_3: \n",
       "     "
      ]
     },
     "execution_count": 2,
     "metadata": {},
     "output_type": "execute_result"
    }
   ],
   "source": [
    "n = 4\n",
    "q = QuantumCircuit(n)\n",
    "q.draw()"
   ]
  },
  {
   "cell_type": "markdown",
   "metadata": {},
   "source": [
    "### Goal\n",
    "The QFT algorithm carries out a unitary transformation corresponding to the discrete fourier transform"
   ]
  },
  {
   "cell_type": "code",
   "execution_count": 3,
   "metadata": {},
   "outputs": [],
   "source": [
    "def QFT():\n",
    "    global q\n",
    "    global n\n",
    "    for i in range(n):\n",
    "        q.h(i)\n",
    "        for j in range(i+1,n):\n",
    "            q.cp(pi/(2**(j-i)) , j , i)"
   ]
  },
  {
   "cell_type": "code",
   "execution_count": 4,
   "metadata": {},
   "outputs": [
    {
     "data": {
      "text/html": [
       "<pre style=\"word-wrap: normal;white-space: pre;background: #fff0;line-height: 1.1;font-family: &quot;Courier New&quot;,Courier,monospace\">     ┌───┐                                                                     \n",
       "q_0: ┤ H ├─■────────■─────────────■────────────────────────────────────────────\n",
       "     └───┘ │P(π/2)  │       ┌───┐ │                                            \n",
       "q_1: ──────■────────┼───────┤ H ├─┼────────■────────■──────────────────────────\n",
       "                    │P(π/4) └───┘ │        │P(π/2)  │       ┌───┐              \n",
       "q_2: ───────────────■─────────────┼────────■────────┼───────┤ H ├─■────────────\n",
       "                                  │P(π/8)           │P(π/4) └───┘ │P(π/2) ┌───┐\n",
       "q_3: ─────────────────────────────■─────────────────■─────────────■───────┤ H ├\n",
       "                                                                          └───┘</pre>"
      ],
      "text/plain": [
       "     ┌───┐                                                                     \n",
       "q_0: ┤ H ├─■────────■─────────────■────────────────────────────────────────────\n",
       "     └───┘ │P(π/2)  │       ┌───┐ │                                            \n",
       "q_1: ──────■────────┼───────┤ H ├─┼────────■────────■──────────────────────────\n",
       "                    │P(π/4) └───┘ │        │P(π/2)  │       ┌───┐              \n",
       "q_2: ───────────────■─────────────┼────────■────────┼───────┤ H ├─■────────────\n",
       "                                  │P(π/8)           │P(π/4) └───┘ │P(π/2) ┌───┐\n",
       "q_3: ─────────────────────────────■─────────────────■─────────────■───────┤ H ├\n",
       "                                                                          └───┘"
      ]
     },
     "execution_count": 4,
     "metadata": {},
     "output_type": "execute_result"
    }
   ],
   "source": [
    "QFT()\n",
    "q.draw()"
   ]
  }
 ],
 "metadata": {
  "kernelspec": {
   "display_name": "Python 3",
   "language": "python",
   "name": "python3"
  },
  "language_info": {
   "codemirror_mode": {
    "name": "ipython",
    "version": 3
   },
   "file_extension": ".py",
   "mimetype": "text/x-python",
   "name": "python",
   "nbconvert_exporter": "python",
   "pygments_lexer": "ipython3",
   "version": "3.8.5"
  }
 },
 "nbformat": 4,
 "nbformat_minor": 4
}
