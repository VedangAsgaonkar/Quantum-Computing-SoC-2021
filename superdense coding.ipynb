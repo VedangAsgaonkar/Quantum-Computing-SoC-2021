{
 "cells": [
  {
   "cell_type": "markdown",
   "metadata": {},
   "source": [
    "# Superdense Coding"
   ]
  },
  {
   "cell_type": "code",
   "execution_count": 1,
   "metadata": {},
   "outputs": [],
   "source": [
    "from qiskit import QuantumCircuit, assemble, Aer\n",
    "from qiskit.visualization import plot_histogram"
   ]
  },
  {
   "cell_type": "markdown",
   "metadata": {},
   "source": [
    "### Goal\n",
    "The superdense coding algorithm is used to communicate two classical bits of information between 2 parties Alice and Bob."
   ]
  },
  {
   "cell_type": "markdown",
   "metadata": {},
   "source": [
    "### Prerequisites\n",
    "The two parties have a shared entangled pair of qubits in the first Bell state. Qubit 0 will belong to Alice, Qubit 1 will belong to Bob."
   ]
  },
  {
   "cell_type": "code",
   "execution_count": 2,
   "metadata": {},
   "outputs": [
    {
     "data": {
      "text/html": [
       "<pre style=\"word-wrap: normal;white-space: pre;background: #fff0;line-height: 1.1;font-family: &quot;Courier New&quot;,Courier,monospace\">     ┌───┐     \n",
       "q_0: ┤ H ├──■──\n",
       "     └───┘┌─┴─┐\n",
       "q_1: ─────┤ X ├\n",
       "          └───┘</pre>"
      ],
      "text/plain": [
       "     ┌───┐     \n",
       "q_0: ┤ H ├──■──\n",
       "     └───┘┌─┴─┐\n",
       "q_1: ─────┤ X ├\n",
       "          └───┘"
      ]
     },
     "execution_count": 2,
     "metadata": {},
     "output_type": "execute_result"
    }
   ],
   "source": [
    "q = QuantumCircuit(2)\n",
    "q.h(0)\n",
    "q.cx(0,1)\n",
    "q.draw()"
   ]
  },
  {
   "cell_type": "markdown",
   "metadata": {},
   "source": [
    "### Encoding\n",
    "To transport her information, Alice will modify her qubit. She will change the state as follows:\n",
    "* To communicate 00, she applies I\n",
    "* To communicate 01, she applies X\n",
    "* To communicate 10, she applies Z\n",
    "* To communicate 11, she applies XZ"
   ]
  },
  {
   "cell_type": "code",
   "execution_count": 3,
   "metadata": {},
   "outputs": [],
   "source": [
    "def encode(bits):\n",
    "    global q\n",
    "    if bits[0]==1:\n",
    "        q.x(0)\n",
    "    if bits[1]==1:\n",
    "        q.z(0)"
   ]
  },
  {
   "cell_type": "markdown",
   "metadata": {},
   "source": [
    "### Transport\n",
    "Alice's qubit must be sent to Bob via a Quantum communication channel. This transport is completely secure as a eavesdropper cannot obtain any information from Alice's qubit alone"
   ]
  },
  {
   "cell_type": "markdown",
   "metadata": {},
   "source": [
    "### Decoding \n",
    "Bob carries out a measurement in Bell basis. Depending on the 4 different outcomes, he can decode the four possibilities if bits that Alice could have sent"
   ]
  },
  {
   "cell_type": "code",
   "execution_count": 4,
   "metadata": {},
   "outputs": [],
   "source": [
    "def decode():\n",
    "    global q\n",
    "    q.cx(0,1)\n",
    "    q.h(0)"
   ]
  },
  {
   "cell_type": "markdown",
   "metadata": {},
   "source": [
    "### Example\n",
    "Alice wishes to send 01"
   ]
  },
  {
   "cell_type": "code",
   "execution_count": 5,
   "metadata": {},
   "outputs": [],
   "source": [
    "encode([0,1])\n",
    "decode()"
   ]
  },
  {
   "cell_type": "code",
   "execution_count": 6,
   "metadata": {},
   "outputs": [
    {
     "data": {
      "text/html": [
       "<pre style=\"word-wrap: normal;white-space: pre;background: #fff0;line-height: 1.1;font-family: &quot;Courier New&quot;,Courier,monospace\">     ┌───┐     ┌───┐     ┌───┐\n",
       "q_0: ┤ H ├──■──┤ Z ├──■──┤ H ├\n",
       "     └───┘┌─┴─┐└───┘┌─┴─┐└───┘\n",
       "q_1: ─────┤ X ├─────┤ X ├─────\n",
       "          └───┘     └───┘     </pre>"
      ],
      "text/plain": [
       "     ┌───┐     ┌───┐     ┌───┐\n",
       "q_0: ┤ H ├──■──┤ Z ├──■──┤ H ├\n",
       "     └───┘┌─┴─┐└───┘┌─┴─┐└───┘\n",
       "q_1: ─────┤ X ├─────┤ X ├─────\n",
       "          └───┘     └───┘     "
      ]
     },
     "execution_count": 6,
     "metadata": {},
     "output_type": "execute_result"
    }
   ],
   "source": [
    "q.draw()"
   ]
  },
  {
   "cell_type": "code",
   "execution_count": null,
   "metadata": {},
   "outputs": [],
   "source": []
  }
 ],
 "metadata": {
  "kernelspec": {
   "display_name": "Python 3",
   "language": "python",
   "name": "python3"
  },
  "language_info": {
   "codemirror_mode": {
    "name": "ipython",
    "version": 3
   },
   "file_extension": ".py",
   "mimetype": "text/x-python",
   "name": "python",
   "nbconvert_exporter": "python",
   "pygments_lexer": "ipython3",
   "version": "3.8.5"
  }
 },
 "nbformat": 4,
 "nbformat_minor": 4
}
