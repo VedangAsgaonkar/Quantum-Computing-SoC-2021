{
 "cells": [
  {
   "cell_type": "markdown",
   "metadata": {},
   "source": [
    "# Quantum Teleportation"
   ]
  },
  {
   "cell_type": "code",
   "execution_count": 1,
   "metadata": {},
   "outputs": [],
   "source": [
    "from qiskit import QuantumCircuit, assemble, Aer\n",
    "from qiskit.visualization import plot_histogram"
   ]
  },
  {
   "cell_type": "markdown",
   "metadata": {},
   "source": [
    "### Goal\n",
    "The quantum teleportation algorithm allows us to transport a qubit without a quantum communication channel"
   ]
  },
  {
   "cell_type": "markdown",
   "metadata": {},
   "source": [
    "### Prerequisites\n",
    "The two parties Alice and Bob must have an entangled pair shared beforehand. They must also have a classical channel which allows them to transport 2 classical bits. Here Qubit 0 belongs to Alice and Qubit 1 to Bob. Qubit 2 is the qubit which is to be telelported"
   ]
  },
  {
   "cell_type": "code",
   "execution_count": 2,
   "metadata": {},
   "outputs": [
    {
     "data": {
      "text/html": [
       "<pre style=\"word-wrap: normal;white-space: pre;background: #fff0;line-height: 1.1;font-family: &quot;Courier New&quot;,Courier,monospace\">     ┌───┐     \n",
       "q_0: ┤ H ├──■──\n",
       "     └───┘┌─┴─┐\n",
       "q_1: ─────┤ X ├\n",
       "          └───┘\n",
       "q_2: ──────────\n",
       "               </pre>"
      ],
      "text/plain": [
       "     ┌───┐     \n",
       "q_0: ┤ H ├──■──\n",
       "     └───┘┌─┴─┐\n",
       "q_1: ─────┤ X ├\n",
       "          └───┘\n",
       "q_2: ──────────\n",
       "               "
      ]
     },
     "execution_count": 2,
     "metadata": {},
     "output_type": "execute_result"
    }
   ],
   "source": [
    "q = QuantumCircuit(3)\n",
    "q.h(0)\n",
    "q.cx(0,1)\n",
    "q.draw()"
   ]
  },
  {
   "cell_type": "markdown",
   "metadata": {},
   "source": [
    "### Encoding\n",
    "Alice has a Qubit 2 in state $\\alpha |0\\rangle + \\beta|1\\rangle$. She measures the pair she has, i.e. the qubit to be transported and Qubit 0 in the Bell basis"
   ]
  },
  {
   "cell_type": "code",
   "execution_count": 3,
   "metadata": {},
   "outputs": [],
   "source": [
    "def encode():\n",
    "    global q\n",
    "    q.cx(2,0)\n",
    "    q.h(2)\n",
    "    "
   ]
  },
  {
   "cell_type": "markdown",
   "metadata": {},
   "source": [
    "### Transport\n",
    "The classical bits obtained as a result of the measurement are sent to Bob."
   ]
  },
  {
   "cell_type": "markdown",
   "metadata": {},
   "source": [
    "### Decoding\n",
    "Bob will carry out the following operations on his Qubit 1. He will then get back Qubit 1 in the state that Qubit 2 was originally in:\n",
    "* If classical bits are 00, he applies I\n",
    "* If classical bits are 01, he applies Z\n",
    "* If classical bits are 10, he applies X\n",
    "* If classical bits are 11, he applies XZ"
   ]
  },
  {
   "cell_type": "code",
   "execution_count": 4,
   "metadata": {},
   "outputs": [],
   "source": [
    "def decode():\n",
    "    global q\n",
    "    q.cz(2,1)\n",
    "    q.cx(0,1)"
   ]
  },
  {
   "cell_type": "markdown",
   "metadata": {},
   "source": [
    "### Example\n",
    "Suppose Alice wishes to send communicate a qubit in state $\\frac{|0\\rangle + |1\\rangle}{\\sqrt{2}}$"
   ]
  },
  {
   "cell_type": "code",
   "execution_count": 5,
   "metadata": {},
   "outputs": [
    {
     "data": {
      "text/plain": [
       "<qiskit.circuit.instructionset.InstructionSet at 0x213f1271fd0>"
      ]
     },
     "execution_count": 5,
     "metadata": {},
     "output_type": "execute_result"
    }
   ],
   "source": [
    "q.h(2)"
   ]
  },
  {
   "cell_type": "code",
   "execution_count": 6,
   "metadata": {},
   "outputs": [
    {
     "data": {
      "text/html": [
       "<pre style=\"word-wrap: normal;white-space: pre;background: #fff0;line-height: 1.1;font-family: &quot;Courier New&quot;,Courier,monospace\">     ┌───┐     ┌───┐             \n",
       "q_0: ┤ H ├──■──┤ X ├──────────■──\n",
       "     └───┘┌─┴─┐└─┬─┘        ┌─┴─┐\n",
       "q_1: ─────┤ X ├──┼────────■─┤ X ├\n",
       "     ┌───┐└───┘  │  ┌───┐ │ └───┘\n",
       "q_2: ┤ H ├───────■──┤ H ├─■──────\n",
       "     └───┘          └───┘        </pre>"
      ],
      "text/plain": [
       "     ┌───┐     ┌───┐             \n",
       "q_0: ┤ H ├──■──┤ X ├──────────■──\n",
       "     └───┘┌─┴─┐└─┬─┘        ┌─┴─┐\n",
       "q_1: ─────┤ X ├──┼────────■─┤ X ├\n",
       "     ┌───┐└───┘  │  ┌───┐ │ └───┘\n",
       "q_2: ┤ H ├───────■──┤ H ├─■──────\n",
       "     └───┘          └───┘        "
      ]
     },
     "execution_count": 6,
     "metadata": {},
     "output_type": "execute_result"
    }
   ],
   "source": [
    "encode()\n",
    "decode()\n",
    "q.draw()"
   ]
  }
 ],
 "metadata": {
  "kernelspec": {
   "display_name": "Python 3",
   "language": "python",
   "name": "python3"
  },
  "language_info": {
   "codemirror_mode": {
    "name": "ipython",
    "version": 3
   },
   "file_extension": ".py",
   "mimetype": "text/x-python",
   "name": "python",
   "nbconvert_exporter": "python",
   "pygments_lexer": "ipython3",
   "version": "3.8.5"
  }
 },
 "nbformat": 4,
 "nbformat_minor": 4
}
